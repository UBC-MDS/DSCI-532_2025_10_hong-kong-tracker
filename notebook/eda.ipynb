{
 "cells": [
  {
   "cell_type": "code",
   "execution_count": 1,
   "id": "c06e84e5-c3f8-4ae0-8c39-5e44434edae3",
   "metadata": {},
   "outputs": [],
   "source": [
    "import pandas as pd"
   ]
  },
  {
   "cell_type": "code",
   "execution_count": 44,
   "id": "5259b1f8-82e5-46ac-908c-1361bf948d49",
   "metadata": {},
   "outputs": [],
   "source": [
    "data = pd.read_csv('../data/processed/data.csv')"
   ]
  },
  {
   "cell_type": "code",
   "execution_count": 45,
   "id": "8b9df7cc-adb8-4aa5-a83c-664c607e3161",
   "metadata": {},
   "outputs": [
    {
     "data": {
      "text/html": [
       "<div>\n",
       "<style scoped>\n",
       "    .dataframe tbody tr th:only-of-type {\n",
       "        vertical-align: middle;\n",
       "    }\n",
       "\n",
       "    .dataframe tbody tr th {\n",
       "        vertical-align: top;\n",
       "    }\n",
       "\n",
       "    .dataframe thead th {\n",
       "        text-align: right;\n",
       "    }\n",
       "</style>\n",
       "<table border=\"1\" class=\"dataframe\">\n",
       "  <thead>\n",
       "    <tr style=\"text-align: right;\">\n",
       "      <th></th>\n",
       "      <th>Unnamed: 0</th>\n",
       "      <th>date</th>\n",
       "      <th>control_point</th>\n",
       "      <th>travel_type</th>\n",
       "      <th>passenger_origin</th>\n",
       "      <th>passenger_count</th>\n",
       "      <th>travel_method</th>\n",
       "    </tr>\n",
       "  </thead>\n",
       "  <tbody>\n",
       "    <tr>\n",
       "      <th>0</th>\n",
       "      <td>0</td>\n",
       "      <td>01-01-2021</td>\n",
       "      <td>Airport</td>\n",
       "      <td>Arrival</td>\n",
       "      <td>Hong Kong Residents</td>\n",
       "      <td>341</td>\n",
       "      <td>by air</td>\n",
       "    </tr>\n",
       "    <tr>\n",
       "      <th>1</th>\n",
       "      <td>1</td>\n",
       "      <td>01-01-2021</td>\n",
       "      <td>Airport</td>\n",
       "      <td>Departure</td>\n",
       "      <td>Hong Kong Residents</td>\n",
       "      <td>803</td>\n",
       "      <td>by air</td>\n",
       "    </tr>\n",
       "    <tr>\n",
       "      <th>2</th>\n",
       "      <td>2</td>\n",
       "      <td>01-01-2021</td>\n",
       "      <td>Express Rail Link West Kowloon</td>\n",
       "      <td>Arrival</td>\n",
       "      <td>Hong Kong Residents</td>\n",
       "      <td>0</td>\n",
       "      <td>by land</td>\n",
       "    </tr>\n",
       "    <tr>\n",
       "      <th>3</th>\n",
       "      <td>3</td>\n",
       "      <td>01-01-2021</td>\n",
       "      <td>Express Rail Link West Kowloon</td>\n",
       "      <td>Departure</td>\n",
       "      <td>Hong Kong Residents</td>\n",
       "      <td>0</td>\n",
       "      <td>by land</td>\n",
       "    </tr>\n",
       "    <tr>\n",
       "      <th>4</th>\n",
       "      <td>4</td>\n",
       "      <td>01-01-2021</td>\n",
       "      <td>Hung Hom</td>\n",
       "      <td>Arrival</td>\n",
       "      <td>Hong Kong Residents</td>\n",
       "      <td>0</td>\n",
       "      <td>by land</td>\n",
       "    </tr>\n",
       "  </tbody>\n",
       "</table>\n",
       "</div>"
      ],
      "text/plain": [
       "   Unnamed: 0        date                   control_point travel_type  \\\n",
       "0           0  01-01-2021                         Airport     Arrival   \n",
       "1           1  01-01-2021                         Airport   Departure   \n",
       "2           2  01-01-2021  Express Rail Link West Kowloon     Arrival   \n",
       "3           3  01-01-2021  Express Rail Link West Kowloon   Departure   \n",
       "4           4  01-01-2021                        Hung Hom     Arrival   \n",
       "\n",
       "      passenger_origin  passenger_count travel_method  \n",
       "0  Hong Kong Residents              341        by air  \n",
       "1  Hong Kong Residents              803        by air  \n",
       "2  Hong Kong Residents                0       by land  \n",
       "3  Hong Kong Residents                0       by land  \n",
       "4  Hong Kong Residents                0       by land  "
      ]
     },
     "execution_count": 45,
     "metadata": {},
     "output_type": "execute_result"
    }
   ],
   "source": [
    "data.head()"
   ]
  },
  {
   "cell_type": "code",
   "execution_count": 46,
   "id": "b91e1c8b",
   "metadata": {},
   "outputs": [
    {
     "name": "stdout",
     "output_type": "stream",
     "text": [
      "['Hong Kong Residents' 'Mainland Visitors' 'Other Visitors']\n"
     ]
    }
   ],
   "source": [
    "# EDA \n",
    "\n",
    "# Get unique dates\n",
    "origin = data['passenger_origin'].unique()\n",
    "print(origin)"
   ]
  },
  {
   "cell_type": "code",
   "execution_count": 47,
   "id": "3ac40e8d",
   "metadata": {},
   "outputs": [
    {
     "data": {
      "text/plain": [
       "0.00607958"
      ]
     },
     "execution_count": 47,
     "metadata": {},
     "output_type": "execute_result"
    }
   ],
   "source": [
    "total_passengers = data[\"passenger_count\"].sum()\n",
    "tourist_df = data[(data['travel_type'] == 'Arrival') & (data['passenger_origin'] != 'Hong Kong Residents')]\n",
    "volume_entries = round(len(tourist_df) / 7.54e6, 8)\n",
    "volume_entries"
   ]
  },
  {
   "cell_type": "code",
   "execution_count": 48,
   "id": "8d762f06",
   "metadata": {},
   "outputs": [
    {
     "data": {
      "text/plain": [
       "<bound method NDFrame.tail of 0         01-01-2021\n",
       "1         01-01-2021\n",
       "2         01-01-2021\n",
       "3         01-01-2021\n",
       "4         01-01-2021\n",
       "             ...    \n",
       "137515    23-02-2025\n",
       "137516    23-02-2025\n",
       "137517    23-02-2025\n",
       "137518    23-02-2025\n",
       "137519    23-02-2025\n",
       "Name: date, Length: 137520, dtype: object>"
      ]
     },
     "execution_count": 48,
     "metadata": {},
     "output_type": "execute_result"
    }
   ],
   "source": [
    "unique_dates = data['date']\n",
    "unique_dates.tail"
   ]
  },
  {
   "cell_type": "code",
   "execution_count": 49,
   "id": "ff809270",
   "metadata": {},
   "outputs": [
    {
     "data": {
      "text/plain": [
       "array(['Airport', 'Express Rail Link West Kowloon', 'Hung Hom', 'Lo Wu',\n",
       "       'Lok Ma Chau Spur Line', 'Heung Yuen Wai',\n",
       "       'Hong Kong-Zhuhai-Macao Bridge', 'Lok Ma Chau', 'Man Kam To',\n",
       "       'Sha Tau Kok', 'Shenzhen Bay', 'China Ferry Terminal',\n",
       "       'Harbour Control', 'Kai Tak Cruise Terminal',\n",
       "       'Macau Ferry Terminal', 'Tuen Mun Ferry Terminal'], dtype=object)"
      ]
     },
     "execution_count": 49,
     "metadata": {},
     "output_type": "execute_result"
    }
   ],
   "source": [
    "data['control_point'].unique()"
   ]
  }
 ],
 "metadata": {
  "kernelspec": {
   "display_name": "532",
   "language": "python",
   "name": "python3"
  },
  "language_info": {
   "codemirror_mode": {
    "name": "ipython",
    "version": 3
   },
   "file_extension": ".py",
   "mimetype": "text/x-python",
   "name": "python",
   "nbconvert_exporter": "python",
   "pygments_lexer": "ipython3",
   "version": "3.11.6"
  }
 },
 "nbformat": 4,
 "nbformat_minor": 5
}
